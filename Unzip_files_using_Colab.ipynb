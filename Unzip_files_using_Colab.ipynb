{
  "nbformat": 4,
  "nbformat_minor": 0,
  "metadata": {
    "colab": {
      "provenance": [],
      "authorship_tag": "ABX9TyNxX840RzSxosIBe0h25sZK",
      "include_colab_link": true
    },
    "kernelspec": {
      "name": "python3",
      "display_name": "Python 3"
    },
    "language_info": {
      "name": "python"
    }
  },
  "cells": [
    {
      "cell_type": "markdown",
      "metadata": {
        "id": "view-in-github",
        "colab_type": "text"
      },
      "source": [
        "<a href=\"https://colab.research.google.com/github/sudiptiwari/minor-project-misc/blob/main/Unzip_files_using_Colab.ipynb\" target=\"_parent\"><img src=\"https://colab.research.google.com/assets/colab-badge.svg\" alt=\"Open In Colab\"/></a>"
      ]
    },
    {
      "cell_type": "markdown",
      "source": [
        "## Unzip the dataset file\n"
      ],
      "metadata": {
        "id": "kCSUmI-d1R4g"
      }
    },
    {
      "cell_type": "code",
      "source": [
        "# Mount Google Drive\n",
        "from google.colab import drive\n",
        "drive.mount('/content/drive')"
      ],
      "metadata": {
        "id": "0t_p0QmE1TBn"
      },
      "execution_count": null,
      "outputs": []
    },
    {
      "cell_type": "code",
      "source": [
        "# Install gdown library\n",
        "!pip install gdown"
      ],
      "metadata": {
        "id": "f9M4RVlF1Wge"
      },
      "execution_count": null,
      "outputs": []
    },
    {
      "cell_type": "code",
      "source": [
        "# Import necessary libraries\n",
        "import requests\n",
        "import zipfile\n",
        "from io import BytesIO\n",
        "import os"
      ],
      "metadata": {
        "id": "OCQGCGSq1b3v"
      },
      "execution_count": null,
      "outputs": []
    },
    {
      "cell_type": "code",
      "source": [
        "# Set the project folder path\n",
        "project_folder = '/content/drive/My Drive/Minor-Project'"
      ],
      "metadata": {
        "id": "I26wOQMu1ey2"
      },
      "execution_count": null,
      "outputs": []
    },
    {
      "cell_type": "code",
      "source": [
        "# Change the current working directory to the project folder\n",
        "os.chdir(project_folder)"
      ],
      "metadata": {
        "id": "5bygTa6W1fXQ"
      },
      "execution_count": null,
      "outputs": []
    },
    {
      "cell_type": "code",
      "source": [
        "# Define the path to the zip file and the destination folder\n",
        "zip_file_path = '/content/drive/My Drive/Minor-Project/dataset/clean_nepberta_data.zip'\n",
        "extract_folder = '/content/drive/My Drive/Minor-Project/dataset/'"
      ],
      "metadata": {
        "id": "Vfe72liD1hHf"
      },
      "execution_count": null,
      "outputs": []
    },
    {
      "cell_type": "code",
      "source": [
        "# Create the extract folder if it doesn't exist\n",
        "os.makedirs(extract_folder, exist_ok=True)"
      ],
      "metadata": {
        "id": "n53qccuL1hXw"
      },
      "execution_count": null,
      "outputs": []
    },
    {
      "cell_type": "code",
      "source": [
        "# Unzip the file\n",
        "with zipfile.ZipFile(zip_file_path, 'r') as zip_ref:\n",
        "    zip_ref.extractall(extract_folder)"
      ],
      "metadata": {
        "id": "TVlKgALi1hp-"
      },
      "execution_count": null,
      "outputs": []
    },
    {
      "cell_type": "code",
      "source": [
        "print(f\"Dataset has been successfully extracted to: {extract_folder}\")"
      ],
      "metadata": {
        "id": "9bt7siz61o53"
      },
      "execution_count": null,
      "outputs": []
    }
  ]
}